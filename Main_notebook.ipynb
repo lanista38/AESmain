{
 "cells": [
  {
   "cell_type": "code",
   "execution_count": null,
   "metadata": {},
   "outputs": [],
   "source": []
  },
  {
   "cell_type": "code",
   "execution_count": 1,
   "metadata": {},
   "outputs": [
    {
     "ename": "SyntaxError",
     "evalue": "invalid token (<ipython-input-1-a90232d29966>, line 9)",
     "output_type": "error",
     "traceback": [
      "\u001b[1;36m  File \u001b[1;32m\"<ipython-input-1-a90232d29966>\"\u001b[1;36m, line \u001b[1;32m9\u001b[0m\n\u001b[1;33m    s= x = imod(0001, 0001)\u001b[0m\n\u001b[1;37m                   ^\u001b[0m\n\u001b[1;31mSyntaxError\u001b[0m\u001b[1;31m:\u001b[0m invalid token\n"
     ]
    }
   ],
   "source": []
  },
  {
   "cell_type": "code",
   "execution_count": 19,
   "metadata": {},
   "outputs": [
    {
     "name": "stdout",
     "output_type": "stream",
     "text": [
      "10100\n",
      "1100100\n"
     ]
    }
   ],
   "source": [
    "def binSum(a, b):\n",
    "    num1 = int(a,2)  \n",
    "    num2 = int(b,2)\n",
    "    bin_num = bin(num1+num2)\n",
    "    #print(bin_num)\n",
    "    transnum = str(bin_num)[2:] #just to remove the '0b'\n",
    "    print(str(transnum))\n",
    "    #print(str(int(transnum,10)))\n",
    "def binMul(a, b):\n",
    "    num1 = int(a,2)  \n",
    "    num2 = int(b,2)\n",
    "    bin_num = bin(num1*num2)\n",
    "    #print(bin_num)\n",
    "    transnum = str(bin_num)[2:] #just to remove the '0b'\n",
    "    print(str(transnum))\n",
    "    #print(str(int(transnum,10)))\n",
    "\n",
    "binSum(\"00001010\", \"00001010\")\n",
    "\n",
    "binMul(\"00001010\", \"00001010\")\n"
   ]
  },
  {
   "cell_type": "code",
   "execution_count": null,
   "metadata": {},
   "outputs": [],
   "source": []
  },
  {
   "cell_type": "code",
   "execution_count": null,
   "metadata": {},
   "outputs": [],
   "source": []
  }
 ],
 "metadata": {
  "kernelspec": {
   "display_name": "Python 3",
   "language": "python",
   "name": "python3"
  },
  "language_info": {
   "codemirror_mode": {
    "name": "ipython",
    "version": 3
   },
   "file_extension": ".py",
   "mimetype": "text/x-python",
   "name": "python",
   "nbconvert_exporter": "python",
   "pygments_lexer": "ipython3",
   "version": "3.6.3"
  }
 },
 "nbformat": 4,
 "nbformat_minor": 2
}
