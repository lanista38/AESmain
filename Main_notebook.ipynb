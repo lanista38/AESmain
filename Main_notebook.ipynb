{
 "cells": [
  {
   "cell_type": "code",
   "execution_count": null,
   "metadata": {},
   "outputs": [],
   "source": []
  },
  {
   "cell_type": "code",
   "execution_count": 1,
   "metadata": {},
   "outputs": [
    {
     "ename": "SyntaxError",
     "evalue": "invalid token (<ipython-input-1-a90232d29966>, line 9)",
     "output_type": "error",
     "traceback": [
      "\u001b[1;36m  File \u001b[1;32m\"<ipython-input-1-a90232d29966>\"\u001b[1;36m, line \u001b[1;32m9\u001b[0m\n\u001b[1;33m    s= x = imod(0001, 0001)\u001b[0m\n\u001b[1;37m                   ^\u001b[0m\n\u001b[1;31mSyntaxError\u001b[0m\u001b[1;31m:\u001b[0m invalid token\n"
     ]
    }
   ],
   "source": []
  },
  {
   "cell_type": "code",
   "execution_count": 19,
   "metadata": {},
   "outputs": [
    {
     "name": "stdout",
     "output_type": "stream",
     "text": [
      "10100\n",
      "1100100\n"
     ]
    }
   ],
   "source": [
    "def binSum(a, b):\n",
    "    num1 = int(a,2)  \n",
    "    num2 = int(b,2)\n",
    "    bin_num = bin(num1+num2)\n",
    "    #print(bin_num)\n",
    "    transnum = str(bin_num)[2:] #just to remove the '0b'\n",
    "    print(str(transnum))\n",
    "    #print(str(int(transnum,10)))\n",
    "def binMul(a, b):\n",
    "    num1 = int(a,2)  \n",
    "    num2 = int(b,2)\n",
    "    bin_num = bin(num1*num2)\n",
    "    #print(bin_num)\n",
    "    transnum = str(bin_num)[2:] #just to remove the '0b'\n",
    "    print(str(transnum))\n",
    "    #print(str(int(transnum,10)))\n",
    "\n",
    "binSum(\"00001010\", \"00001010\")\n",
    "\n",
    "binMul(\"00001010\", \"00001010\")\n"
   ]
  },
  {
   "cell_type": "code",
   "execution_count": 20,
   "metadata": {},
   "outputs": [
    {
     "name": "stdout",
     "output_type": "stream",
     "text": [
      "\n",
      "Initial State:\n",
      "[['1' '89' 'fe' '76']\n",
      " ['23' 'ab' 'dc' '54']\n",
      " ['45' 'cd' 'ba' '32']\n",
      " ['67' 'ef' '98' '10']]\n",
      "\n",
      "Shifted Rows:\n",
      "[['1' '89' 'fe' '76']\n",
      " ['ab' 'dc' '54' '23']\n",
      " ['ba' '32' '45' 'cd']\n",
      " ['10' '67' 'ef' '98']]\n",
      "\n",
      "Inverse Shifted Rows:\n",
      "[['1' '89' 'fe' '76']\n",
      " ['54' '23' 'ab' 'dc']\n",
      " ['ba' '32' '45' 'cd']\n",
      " ['ef' '98' '10' '67']]\n"
     ]
    }
   ],
   "source": [
    "def shiftRows(state):\n",
    "    #Shift rows to the left\n",
    "    tmp = [0] * 16\n",
    "    \n",
    "    tmp[0] = state[0]\n",
    "    tmp[1] = state[5]\n",
    "    tmp[2] = state[10]\n",
    "    tmp[3] = state[15]\n",
    "    \n",
    "    tmp[4] = state[4]\n",
    "    tmp[5] = state[9]\n",
    "    tmp[6] = state[14]\n",
    "    tmp[7] = state[3]\n",
    "    \n",
    "    tmp[8] = state[8]\n",
    "    tmp[9] = state[13]\n",
    "    tmp[10] = state[2]\n",
    "    tmp[11] = state[7]\n",
    "    \n",
    "    tmp[12] = state[12]\n",
    "    tmp[13] = state[1]\n",
    "    tmp[14] = state[6]\n",
    "    tmp[15] = state[11]\n",
    "    \n",
    "    state = tmp\n",
    "        \n",
    "    return state\n",
    "\n",
    "def invShiftRows(state):\n",
    "    #Shift rows to the right\n",
    "    tmp = [0] * 16\n",
    "    \n",
    "    tmp[0] = state[0]\n",
    "    tmp[1] = state[13]\n",
    "    tmp[2] = state[10]\n",
    "    tmp[3] = state[7]\n",
    "    \n",
    "    tmp[4] = state[4]\n",
    "    tmp[5] = state[1]\n",
    "    tmp[6] = state[14]\n",
    "    tmp[7] = state[11]\n",
    "    \n",
    "    tmp[8] = state[8]\n",
    "    tmp[9] = state[5]\n",
    "    tmp[10] = state[2]\n",
    "    tmp[11] = state[15]\n",
    "    \n",
    "    tmp[12] = state[12]\n",
    "    tmp[13] = state[9]\n",
    "    tmp[14] = state[6]\n",
    "    tmp[15] = state[3]\n",
    "    \n",
    "    state = tmp\n",
    "        \n",
    "    return state\n",
    "\n",
    "\n",
    "\n",
    "\n",
    "#for x in initial_state:\n",
    "#    print(hex(x).split('x')[-1])\n",
    "\n",
    "\n",
    "#Function to show state in 4x4 square\n",
    "def printStateMatrix(state):\n",
    "    s_matrix = [[] for j in range(4)]\n",
    "    for r in range(4):\n",
    "        for c in range(4):\n",
    "            s_matrix[r].append(hex(state[r + 4 * c]).split('x')[-1])\n",
    "    print(np.matrix(s_matrix))\n",
    "\n",
    "\n",
    "#Testing\n",
    "initial_state = [1,35,69,103, 137,171,205,239, 254,220,186,152, 118,84,50,16]\n",
    "\n",
    "print(\"\\nInitial State:\")\n",
    "printStateMatrix(initial_state)\n",
    "\n",
    "\n",
    "shifted_state = shiftRows(initial_state)\n",
    "print(\"\\nShifted Rows:\")\n",
    "printStateMatrix(shifted_state)\n",
    "\n",
    "\n",
    "inv_shifted_state = invShiftRows(initial_state)\n",
    "print(\"\\nInverse Shifted Rows:\")\n",
    "printStateMatrix(inv_shifted_state)\n",
    "\n"
   ]
  },
  {
   "cell_type": "code",
   "execution_count": null,
   "metadata": {},
   "outputs": [],
   "source": []
  }
 ],
 "metadata": {
  "kernelspec": {
   "display_name": "Python 3",
   "language": "python",
   "name": "python3"
  },
  "language_info": {
   "codemirror_mode": {
    "name": "ipython",
    "version": 3
   },
   "file_extension": ".py",
   "mimetype": "text/x-python",
   "name": "python",
   "nbconvert_exporter": "python",
   "pygments_lexer": "ipython3",
   "version": "3.6.5"
  }
 },
 "nbformat": 4,
 "nbformat_minor": 2
}
